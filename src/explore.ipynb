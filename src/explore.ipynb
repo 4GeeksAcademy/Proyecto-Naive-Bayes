{
    "cells": [
        {
            "cell_type": "markdown",
            "metadata": {},
            "source": [
                "# Explore here"
            ]
        },
        {
            "cell_type": "code",
            "execution_count": 8,
            "metadata": {},
            "outputs": [
                {
                    "name": "stdout",
                    "output_type": "stream",
                    "text": [
                        "          package_name                                             review  \\\n",
                        "0  com.facebook.katana   privacy at least put some option appear offli...   \n",
                        "1  com.facebook.katana   messenger issues ever since the last update, ...   \n",
                        "2  com.facebook.katana   profile any time my wife or anybody has more ...   \n",
                        "3  com.facebook.katana   the new features suck for those of us who don...   \n",
                        "4  com.facebook.katana   forced reload on uploading pic on replying co...   \n",
                        "\n",
                        "   polarity  \n",
                        "0         0  \n",
                        "1         0  \n",
                        "2         0  \n",
                        "3         0  \n",
                        "4         0  \n"
                    ]
                }
            ],
            "source": [
                "import pandas as pd\n",
                "\n",
                "# Cargar el conjunto de datos\n",
                "url = \"https://raw.githubusercontent.com/4GeeksAcademy/naive-bayes-project-tutorial/main/playstore_reviews.csv\"\n",
                "df = pd.read_csv(url)\n",
                "\n",
                "# Mostrar las primeras filas del conjunto de datos\n",
                "print(df.head())"
            ]
        },
        {
            "cell_type": "code",
            "execution_count": 9,
            "metadata": {},
            "outputs": [
                {
                    "name": "stdout",
                    "output_type": "stream",
                    "text": [
                        "                                              review  polarity\n",
                        "0  privacy at least put some option appear offlin...         0\n",
                        "1  messenger issues ever since the last update, i...         0\n",
                        "2  profile any time my wife or anybody has more t...         0\n",
                        "3  the new features suck for those of us who don'...         0\n",
                        "4  forced reload on uploading pic on replying com...         0\n"
                    ]
                }
            ],
            "source": [
                "def apply_preprocess(df):\n",
                "    df = df.drop(\"package_name\", axis=1)\n",
                "    df[\"review\"] = df[\"review\"].str.strip().str.lower()\n",
                "    return df\n",
                "\n",
                "df = apply_preprocess(df)\n",
                "\n",
                "print(df.head())"
            ]
        },
        {
            "cell_type": "code",
            "execution_count": 10,
            "metadata": {},
            "outputs": [
                {
                    "name": "stdout",
                    "output_type": "stream",
                    "text": [
                        "Tamaño del conjunto de entrenamiento: 712\n",
                        "Tamaño del conjunto de prueba: 179\n"
                    ]
                }
            ],
            "source": [
                "from sklearn.model_selection import train_test_split\n",
                "\n",
                "X = df[\"review\"]\n",
                "y = df[\"polarity\"]\n",
                "\n",
                "X_train, X_test, y_train, y_test = train_test_split(X, y, test_size=0.2, random_state=42)\n",
                "\n",
                "print(f'Tamaño del conjunto de entrenamiento: {len(X_train)}')\n",
                "print(f'Tamaño del conjunto de prueba: {len(X_test)}')"
            ]
        },
        {
            "cell_type": "code",
            "execution_count": 11,
            "metadata": {},
            "outputs": [
                {
                    "name": "stdout",
                    "output_type": "stream",
                    "text": [
                        "Tamaño del conjunto de entrenamiento: 712\n",
                        "Tamaño del conjunto de prueba: 179\n"
                    ]
                }
            ],
            "source": [
                "from sklearn.model_selection import train_test_split\n",
                "\n",
                "X = df[\"review\"]\n",
                "y = df[\"polarity\"]\n",
                "\n",
                "X_train, X_test, y_train, y_test = train_test_split(X, y, test_size=0.2, random_state=42)\n",
                "\n",
                "print(f'Tamaño del conjunto de entrenamiento: {len(X_train)}')\n",
                "print(f'Tamaño del conjunto de prueba: {len(X_test)}')"
            ]
        },
        {
            "cell_type": "code",
            "execution_count": 12,
            "metadata": {},
            "outputs": [
                {
                    "name": "stdout",
                    "output_type": "stream",
                    "text": [
                        "Tamaño de la matriz de características de entrenamiento: (712, 3310)\n",
                        "Tamaño de la matriz de características de prueba: (179, 3310)\n"
                    ]
                }
            ],
            "source": [
                "from sklearn.feature_extraction.text import CountVectorizer\n",
                "\n",
                "# Crear el vectorizador y ajustar el conjunto de entrenamiento\n",
                "vec_model = CountVectorizer(stop_words='english')\n",
                "X_train_vec = vec_model.fit_transform(X_train).toarray()\n",
                "X_test_vec = vec_model.transform(X_test).toarray()\n",
                "\n",
                "print(f'Tamaño de la matriz de características de entrenamiento: {X_train_vec.shape}')\n",
                "print(f'Tamaño de la matriz de características de prueba: {X_test_vec.shape}')"
            ]
        },
        {
            "cell_type": "code",
            "execution_count": 13,
            "metadata": {},
            "outputs": [
                {
                    "name": "stdout",
                    "output_type": "stream",
                    "text": [
                        "Exactitud de GaussianNB: 0.8044692737430168\n",
                        "Exactitud de MultinomialNB: 0.8156424581005587\n",
                        "Exactitud de BernoulliNB: 0.770949720670391\n"
                    ]
                }
            ],
            "source": [
                "from sklearn.naive_bayes import GaussianNB, MultinomialNB, BernoulliNB\n",
                "from sklearn.metrics import accuracy_score\n",
                "\n",
                "# Inicializar los modelos\n",
                "gnb = GaussianNB()\n",
                "mnb = MultinomialNB()\n",
                "bnb = BernoulliNB()\n",
                "\n",
                "# Entrenar y evaluar GaussianNB\n",
                "gnb.fit(X_train_vec, y_train)\n",
                "y_pred_gnb = gnb.predict(X_test_vec)\n",
                "acc_gnb = accuracy_score(y_test, y_pred_gnb)\n",
                "\n",
                "# Entrenar y evaluar MultinomialNB\n",
                "mnb.fit(X_train_vec, y_train)\n",
                "y_pred_mnb = mnb.predict(X_test_vec)\n",
                "acc_mnb = accuracy_score(y_test, y_pred_mnb)\n",
                "\n",
                "# Entrenar y evaluar BernoulliNB\n",
                "bnb.fit(X_train_vec, y_train)\n",
                "y_pred_bnb = bnb.predict(X_test_vec)\n",
                "acc_bnb = accuracy_score(y_test, y_pred_bnb)\n",
                "\n",
                "print(f'Exactitud de GaussianNB: {acc_gnb}')\n",
                "print(f'Exactitud de MultinomialNB: {acc_mnb}')\n",
                "print(f'Exactitud de BernoulliNB: {acc_bnb}')"
            ]
        },
        {
            "cell_type": "code",
            "execution_count": 14,
            "metadata": {},
            "outputs": [
                {
                    "name": "stdout",
                    "output_type": "stream",
                    "text": [
                        "Mejores hiperparámetros: {'fit_prior': False, 'alpha': np.float64(1.917638190954774)}\n",
                        "Exactitud del modelo optimizado MultinomialNB: 0.8212290502793296\n"
                    ]
                }
            ],
            "source": [
                "import numpy as np\n",
                "from sklearn.model_selection import RandomizedSearchCV\n",
                "\n",
                "hyperparams = {\n",
                "    \"alpha\": np.linspace(0.01, 10.0, 200),\n",
                "    \"fit_prior\": [True, False]\n",
                "}\n",
                "\n",
                "# Inicializar la búsqueda aleatoria\n",
                "random_search = RandomizedSearchCV(mnb, hyperparams, n_iter=50, scoring=\"accuracy\", cv=5, random_state=42)\n",
                "random_search.fit(X_train_vec, y_train)\n",
                "\n",
                "print(f\"Mejores hiperparámetros: {random_search.best_params_}\")\n",
                "\n",
                "# Entrenar el modelo con los mejores hiperparámetros\n",
                "best_mnb = MultinomialNB(alpha=random_search.best_params_['alpha'], fit_prior=random_search.best_params_['fit_prior'])\n",
                "best_mnb.fit(X_train_vec, y_train)\n",
                "y_pred_best_mnb = best_mnb.predict(X_test_vec)\n",
                "acc_best_mnb = accuracy_score(y_test, y_pred_best_mnb)\n",
                "\n",
                "print(f'Exactitud del modelo optimizado MultinomialNB: {acc_best_mnb}')"
            ]
        },
        {
            "cell_type": "code",
            "execution_count": 15,
            "metadata": {},
            "outputs": [
                {
                    "name": "stdout",
                    "output_type": "stream",
                    "text": [
                        "Modelo optimizado guardado exitosamente.\n"
                    ]
                }
            ],
            "source": [
                "import joblib\n",
                "\n",
                "# Guardar el mejor modelo MultinomialNB optimizado\n",
                "joblib.dump(best_mnb, 'best_multinomial_nb_model.pkl')\n",
                "\n",
                "print(\"Modelo optimizado guardado exitosamente.\")"
            ]
        },
        {
            "cell_type": "code",
            "execution_count": 16,
            "metadata": {},
            "outputs": [
                {
                    "name": "stdout",
                    "output_type": "stream",
                    "text": [
                        "Exactitud de SVM: 0.8044692737430168\n",
                        "Exactitud de Gradient Boosting: 0.7318435754189944\n"
                    ]
                }
            ],
            "source": [
                "from sklearn.svm import SVC\n",
                "from sklearn.ensemble import GradientBoostingClassifier\n",
                "\n",
                "# Entrenar y evaluar SVM\n",
                "svm_model = SVC(random_state=42)\n",
                "svm_model.fit(X_train_vec, y_train)\n",
                "y_pred_svm = svm_model.predict(X_test_vec)\n",
                "acc_svm = accuracy_score(y_test, y_pred_svm)\n",
                "\n",
                "# Entrenar y evaluar Gradient Boosting\n",
                "gb_model = GradientBoostingClassifier(random_state=42)\n",
                "gb_model.fit(X_train_vec, y_train)\n",
                "y_pred_gb = gb_model.predict(X_test_vec)\n",
                "acc_gb = accuracy_score(y_test, y_pred_gb)\n",
                "\n",
                "print(f'Exactitud de SVM: {acc_svm}')\n",
                "print(f'Exactitud de Gradient Boosting: {acc_gb}')"
            ]
        },
        {
            "cell_type": "code",
            "execution_count": 17,
            "metadata": {},
            "outputs": [
                {
                    "name": "stdout",
                    "output_type": "stream",
                    "text": [
                        "Exactitud de SVM: 0.8044692737430168\n",
                        "Exactitud del modelo Random Forest: 0.7988826815642458\n",
                        "Exactitud de Gradient Boosting: 0.7318435754189944\n",
                        "Exactitud de Logistic Regression: 0.8324022346368715\n"
                    ]
                }
            ],
            "source": [
                "from sklearn.svm import SVC\n",
                "from sklearn.ensemble import RandomForestClassifier, GradientBoostingClassifier\n",
                "from sklearn.linear_model import LogisticRegression\n",
                "from sklearn.metrics import accuracy_score\n",
                "\n",
                "# SVM\n",
                "svm_model = SVC(random_state=42)\n",
                "svm_model.fit(X_train_vec, y_train)\n",
                "y_pred_svm = svm_model.predict(X_test_vec)\n",
                "acc_svm = accuracy_score(y_test, y_pred_svm)\n",
                "print(f'Exactitud de SVM: {acc_svm}')\n",
                "\n",
                "# Random Forest\n",
                "rf_model = RandomForestClassifier(random_state=42)\n",
                "rf_model.fit(X_train_vec, y_train)\n",
                "y_pred_rf = rf_model.predict(X_test_vec)\n",
                "acc_rf = accuracy_score(y_test, y_pred_rf)\n",
                "print(f'Exactitud del modelo Random Forest: {acc_rf}')\n",
                "\n",
                "# Gradient Boosting\n",
                "gb_model = GradientBoostingClassifier(random_state=42)\n",
                "gb_model.fit(X_train_vec, y_train)\n",
                "y_pred_gb = gb_model.predict(X_test_vec)\n",
                "acc_gb = accuracy_score(y_test, y_pred_gb)\n",
                "print(f'Exactitud de Gradient Boosting: {acc_gb}')\n",
                "\n",
                "# Logistic Regression\n",
                "lr_model = LogisticRegression(max_iter=1000, random_state=42)\n",
                "lr_model.fit(X_train_vec, y_train)\n",
                "y_pred_lr = lr_model.predict(X_test_vec)\n",
                "acc_lr = accuracy_score(y_test, y_pred_lr)\n",
                "print(f'Exactitud de Logistic Regression: {acc_lr}')"
            ]
        },
        {
            "cell_type": "code",
            "execution_count": 18,
            "metadata": {},
            "outputs": [
                {
                    "name": "stdout",
                    "output_type": "stream",
                    "text": [
                        "Modelo de Regresión Logística guardado exitosamente.\n"
                    ]
                }
            ],
            "source": [
                "import joblib\n",
                "\n",
                "# Guardar el modelo de Regresión Logística\n",
                "joblib.dump(lr_model, 'best_logistic_regression_model.pkl')\n",
                "\n",
                "print(\"Modelo de Regresión Logística guardado exitosamente.\")"
            ]
        }
    ],
    "metadata": {
        "kernelspec": {
            "display_name": "Python 3.8.13 64-bit ('3.8.13')",
            "language": "python",
            "name": "python3"
        },
        "language_info": {
            "codemirror_mode": {
                "name": "ipython",
                "version": 3
            },
            "file_extension": ".py",
            "mimetype": "text/x-python",
            "name": "python",
            "nbconvert_exporter": "python",
            "pygments_lexer": "ipython3",
            "version": "3.12.4"
        },
        "orig_nbformat": 4,
        "vscode": {
            "interpreter": {
                "hash": "110cc1dee26208153f2972f08a2ad52b6a56238dc66d48e87fb757ef2996db56"
            }
        }
    },
    "nbformat": 4,
    "nbformat_minor": 2
}
